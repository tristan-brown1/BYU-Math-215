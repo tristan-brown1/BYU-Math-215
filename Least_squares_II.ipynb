{
  "nbformat": 4,
  "nbformat_minor": 0,
  "metadata": {
    "colab": {
      "provenance": [],
      "include_colab_link": true
    },
    "kernelspec": {
      "name": "python3",
      "display_name": "Python 3"
    }
  },
  "cells": [
    {
      "cell_type": "markdown",
      "metadata": {
        "id": "view-in-github",
        "colab_type": "text"
      },
      "source": [
        "<a href=\"https://colab.research.google.com/github/tristan-brown1/BYU-Math-215/blob/main/Copy_of_Least_squares_II.ipynb\" target=\"_parent\"><img src=\"https://colab.research.google.com/assets/colab-badge.svg\" alt=\"Open In Colab\"/></a>"
      ]
    },
    {
      "cell_type": "markdown",
      "metadata": {
        "id": "qEJhOZ51lG2W"
      },
      "source": [
        "#**Lab 7 - Least squares II**"
      ]
    },
    {
      "cell_type": "markdown",
      "metadata": {
        "id": "y0oQ0MWSlwfG"
      },
      "source": [
        "Enter your code in the spaces provided. Do not change any of the variable names or function names that are already provided for you. In places where we specify the name of the return value, make sure that your code produces the a value with the correct name."
      ]
    },
    {
      "cell_type": "code",
      "metadata": {
        "id": "-rYZn3kyGXYe"
      },
      "source": [
        "# Do not edit this cell.\n",
        "\n",
        "LabID=\"Lab7\"\n",
        "\n",
        "try:\n",
        "  from graderHelp import ISGRADEPLOT\n",
        "except ImportError:\n",
        "  ISGRADEPLOT = True"
      ],
      "execution_count": null,
      "outputs": []
    },
    {
      "cell_type": "markdown",
      "metadata": {
        "id": "duxZxqozGc15"
      },
      "source": [
        "**Enter your name, section number, and BYU NetID**"
      ]
    },
    {
      "cell_type": "code",
      "metadata": {
        "id": "BuU-yivAGhCc"
      },
      "source": [
        "# Enter your first and last names in between the quotation marks.\n",
        "\n",
        "first_name=\"Tristan\"\n",
        "\n",
        "last_name=\"Brown\"\n",
        "\n",
        "# Enter your Math 215 section number in between the quotation marks.\n",
        "\n",
        "section_number=\"Your Math 215 section number goes here\"\n",
        "\n",
        "# Enter your BYU NetID in between the quotation marks.  NOT YOUR BYU ID NUMBER!\n",
        "\n",
        "BYUNetID=\"tbrown84\""
      ],
      "execution_count": null,
      "outputs": []
    },
    {
      "cell_type": "markdown",
      "metadata": {
        "id": "Hn2V1YPPSeV8"
      },
      "source": [
        "**Import the data set**"
      ]
    },
    {
      "cell_type": "markdown",
      "metadata": {
        "id": "ulLrk9LIYYjE"
      },
      "source": [
        "The simplest way to load the data into Colab is to first download it as a .csv file to your local computer by clicking the link\n",
        "\n",
        "https://drive.google.com/uc?export=download&id=1iFTaBmnv1X66BO9cV_RP7OxvUr9dNJ-l\n",
        "\n",
        "This will allow you to download the data as a .csv file.  In the top left corner of this screen you should see a little file folder icon.  Selecting it opens a new window to the left of the notebook with three tabs: \"Upload\", \"Refresh\", and \"Mount Drive\".  Select \"Upload\". This should bring up a window that allows you to select the file \"Lab7data\" from your local machine, which will upload the file to your notebook. You will need to do this again if you decide to close your notebook and reopen it at a later time."
      ]
    },
    {
      "cell_type": "markdown",
      "metadata": {
        "id": "hnYh-rFvZ1c0"
      },
      "source": [
        "Once you've uploaded your file, convert it to a NumPy array called \"signal_data\" by executing the following cell."
      ]
    },
    {
      "cell_type": "code",
      "metadata": {
        "id": "-rvSM9MIXZSS",
        "colab": {
          "base_uri": "https://localhost:8080/"
        },
        "outputId": "55119c1f-5388-44ff-fa44-b89500325ad5"
      },
      "source": [
        "import numpy as np\n",
        "import pandas as pd\n",
        "\n",
        "df = pd.read_csv('Lab7data.csv')\n",
        "signal_data=df.values\n",
        "signal_data"
      ],
      "execution_count": null,
      "outputs": [
        {
          "output_type": "execute_result",
          "data": {
            "text/plain": [
              "array([[0.        , 0.42908643],\n",
              "       [0.01      , 0.4541735 ],\n",
              "       [0.02      , 0.43351901],\n",
              "       ...,\n",
              "       [6.26      , 0.4964696 ],\n",
              "       [6.27      , 0.5578126 ],\n",
              "       [6.28      , 0.46953165]])"
            ]
          },
          "metadata": {},
          "execution_count": 29
        }
      ]
    },
    {
      "cell_type": "markdown",
      "metadata": {
        "id": "O_rLaE7jKxoH"
      },
      "source": [
        "**Problem 1**"
      ]
    },
    {
      "cell_type": "code",
      "metadata": {
        "id": "dzudpi4_l8-8"
      },
      "source": [
        "T = signal_data[:,0]           # Replace the value of 0 with the NumPy vector that contains all of the time values in the array signal_data (the first column).\n",
        "\n",
        "Y = signal_data[:,1]      # Replace the value of 0 with the NumPy vector that contains all of the signal amplitude values in the array signal_data (the second column)."
      ],
      "execution_count": null,
      "outputs": []
    },
    {
      "cell_type": "code",
      "metadata": {
        "id": "8g3cI5DAy38j",
        "colab": {
          "base_uri": "https://localhost:8080/",
          "height": 447
        },
        "outputId": "f484c4f9-8937-4590-daa1-8c6e426d52ef"
      },
      "source": [
        "import matplotlib.pyplot as plt\n",
        "\n",
        "plt.plot(T,Y)"
      ],
      "execution_count": null,
      "outputs": [
        {
          "output_type": "execute_result",
          "data": {
            "text/plain": [
              "[<matplotlib.lines.Line2D at 0x7a5d5b914c40>]"
            ]
          },
          "metadata": {},
          "execution_count": 31
        },
        {
          "output_type": "display_data",
          "data": {
            "text/plain": [
              "<Figure size 640x480 with 1 Axes>"
            ],
            "image/png": "[encoded data removed]"
          },
          "metadata": {}
        }
      ]
    },
    {
      "cell_type": "markdown",
      "metadata": {
        "id": "_jL7OuIYLa4Y"
      },
      "source": [
        "**Problem 2**"
      ]
    },
    {
      "cell_type": "code",
      "metadata": {
        "id": "iKwv9UTP2wVY"
      },
      "source": [
        "# This function returns the row [1,cos(t),sin(t), cos(2*t), sin(2*t) , ... , cos(n*t), sin(n*t)] of our matrix X.\n",
        "\n",
        "def row_func(t,n):\n",
        "  L = [j(i*t) for i in range(1,n+1) for j in [np.cos , np.sin]]\n",
        "  L.insert(0,1)\n",
        "  return L"
      ],
      "execution_count": null,
      "outputs": []
    },
    {
      "cell_type": "markdown",
      "metadata": {
        "id": "d5ifaZmSMHDw"
      },
      "source": [
        "**Problem 3**"
      ]
    },
    {
      "cell_type": "code",
      "metadata": {
        "id": "s0DwJTH32wZD"
      },
      "source": [
        "# This function returns the matrix X, which we call the design matrix.\n",
        "\n",
        "def design_matrix(n):\n",
        "  M = [row_func(T[i],n) for i in range(len(T))]\n",
        "  M__array = np.array(M)\n",
        "  return M__array"
      ],
      "execution_count": null,
      "outputs": []
    },
    {
      "cell_type": "markdown",
      "metadata": {
        "id": "6jMH7PXwMcuy"
      },
      "source": [
        "**Problem 4**"
      ]
    },
    {
      "cell_type": "code",
      "metadata": {
        "id": "IEx679YY2wb6"
      },
      "source": [
        "X2=design_matrix(2)"
      ],
      "execution_count": null,
      "outputs": []
    },
    {
      "cell_type": "markdown",
      "metadata": {
        "id": "kb9FLrTTM0sj"
      },
      "source": [
        "**Problem 5**"
      ]
    },
    {
      "cell_type": "code",
      "metadata": {
        "id": "szmSRQQi2wes"
      },
      "source": [
        "# Replace all of the 0 values with the NumPy matrices and vectors requested in Problem 5.\n",
        "\n",
        "normal_coef2 = np.matmul(np.transpose(X2),X2)\n",
        "\n",
        "normal_vect2 = np.matmul(np.transpose(X2),Y)\n",
        "\n",
        "beta2 = np.linalg.solve(normal_coef2,normal_vect2)"
      ],
      "execution_count": null,
      "outputs": []
    },
    {
      "cell_type": "markdown",
      "metadata": {
        "id": "5WB-yTRsNKib"
      },
      "source": [
        "**Problem 6**"
      ]
    },
    {
      "cell_type": "code",
      "metadata": {
        "id": "MmdpSsYQ2whe"
      },
      "source": [
        "# This is our function which approximates the signal strength when n=2.\n",
        "\n",
        "def f2(t):\n",
        "    m_array = np.array(row_func(t,2))\n",
        "    return np.dot(m_array,beta2)"
      ],
      "execution_count": null,
      "outputs": []
    },
    {
      "cell_type": "markdown",
      "metadata": {
        "id": "1AoEo5z6Ne0z"
      },
      "source": [
        "**Problem 7**"
      ]
    },
    {
      "cell_type": "code",
      "metadata": {
        "id": "d58LBX-n2wkf",
        "colab": {
          "base_uri": "https://localhost:8080/",
          "height": 430
        },
        "outputId": "e799e6fb-3fc8-459c-f81a-117f3066fd9b"
      },
      "source": [
        "# Create your plot here.\n",
        "vf2=np.vectorize(f2)    # This creates a new function, vf2, which is\n",
        "                        # the same as f2 except for the fact that is\n",
        "                        # can take a NumPy array as input, instead of\n",
        "                        # individual values.\n",
        "\n",
        "plt.plot(T,Y,'r.')      # Creating the plot of the data points in Y\n",
        "                        # using small red dots.\n",
        "\n",
        "plt.plot(T,vf2(T),'b-') # Creating the plot of the function f2 with a\n",
        "                        # blue line. Here we use the function vf2\n",
        "                        # instead of f2, since we are plugging in a\n",
        "                        # NumPy array T.\n",
        "\n",
        "plt.show()              # Display the plots."
      ],
      "execution_count": null,
      "outputs": [
        {
          "output_type": "display_data",
          "data": {
            "text/plain": [
              "<Figure size 640x480 with 1 Axes>"
            ],
            "image/png": "[encoded data removed]"
          },
          "metadata": {}
        }
      ]
    },
    {
      "cell_type": "markdown",
      "metadata": {
        "id": "5-V1WD9UNmZl"
      },
      "source": [
        "**Problem 8**"
      ]
    },
    {
      "cell_type": "code",
      "metadata": {
        "id": "6GA_8AAF2wnY"
      },
      "source": [
        "MSE2=(1/629*(np.linalg.norm(np.matmul(X2,beta2)-Y)**2))    # Replace the 0 value with the mean square error you compute in Problem 8."
      ],
      "execution_count": null,
      "outputs": []
    },
    {
      "cell_type": "markdown",
      "metadata": {
        "id": "8LFlkszMN4nq"
      },
      "source": [
        "**Problem 9**"
      ]
    },
    {
      "cell_type": "code",
      "metadata": {
        "id": "Zy6SewX02wqp"
      },
      "source": [
        "# Replace the 0 values with the values requested in Problem 9.  Remember to copy the decimal values from your practice notebook, not the formulas you used to compute them.\n",
        "X10=design_matrix(10)\n",
        "normal_coef10 = np.matmul(np.transpose(X10),X10)\n",
        "normal_vect10 = np.matmul(np.transpose(X10),Y)\n",
        "beta10 = np.linalg.solve(normal_coef10,normal_vect10)\n",
        "\n",
        "MSE10=(1/629*(np.linalg.norm(np.matmul(X10,beta10)-Y)**2))\n",
        "\n",
        "def f10(t):\n",
        "    m_array = np.array(row_func(t,10))\n",
        "    return np.dot(m_array,beta10)\n",
        "\n",
        "\n",
        "pred10= f10(0.105)"
      ],
      "execution_count": null,
      "outputs": []
    },
    {
      "cell_type": "markdown",
      "metadata": {
        "id": "5KJ4X0qgmW52"
      },
      "source": [
        "**Problem 10**"
      ]
    },
    {
      "cell_type": "code",
      "metadata": {
        "id": "cUMtfns0mWCc"
      },
      "source": [
        "# Replace the 0 values with the values requested in Problem 10.  Remember to copy the decimal values from your practice notebook, not the formulas you used to compute them.\n",
        "\n",
        "X100=design_matrix(100)\n",
        "normal_coef100 = np.matmul(np.transpose(X100),X100)\n",
        "normal_vect100 = np.matmul(np.transpose(X100),Y)\n",
        "beta100 = np.linalg.solve(normal_coef100,normal_vect100)\n",
        "\n",
        "def f100(t):\n",
        "    m_array = np.array(row_func(t,100))\n",
        "    return np.dot(m_array,beta100)\n",
        "\n",
        "MSE100=(1/629*(np.linalg.norm(np.matmul(X100,beta100)-Y)**2))\n",
        "\n",
        "\n",
        "pred100= f100(0.105)"
      ],
      "execution_count": null,
      "outputs": []
    },
    {
      "cell_type": "markdown",
      "metadata": {
        "id": "3gFdGK5_m_iw"
      },
      "source": [
        "**Problem 11**"
      ]
    },
    {
      "cell_type": "code",
      "metadata": {
        "id": "g3ggF7gxDzAp"
      },
      "source": [
        "# Replace the 0 values with the values requested in Problem 11.  Remember to copy the decimal values from your practice notebook, not the formulas you used to compute them.\n",
        "\n",
        "\n",
        "X1000=design_matrix(1000)\n",
        "normal_coef1000 = np.matmul(np.transpose(X1000),X1000)\n",
        "normal_vect1000 = np.matmul(np.transpose(X1000),Y)\n",
        "beta1000 = np.linalg.solve(normal_coef1000,normal_vect1000)\n",
        "\n",
        "def f1000(t):\n",
        "    m_array = np.array(row_func(t,1000))\n",
        "    return np.dot(m_array,beta1000)\n",
        "\n",
        "MSE1000=(1/629*(np.linalg.norm(np.matmul(X1000,beta1000)-Y)**2))\n",
        "\n",
        "\n",
        "pred1000= f1000(0.105)"
      ],
      "execution_count": null,
      "outputs": []
    },
    {
      "cell_type": "markdown",
      "metadata": {
        "id": "bAO57Q_PGt-R"
      },
      "source": [
        "**STOP!  BEFORE YOU SUBMIT THIS LAB:**  Go to the \"Runtime\" menu at the top of this page, and select \"Restart and run all\".  If any of the cells produce error messages, you will either need to fix the error(s) or delete the code that is causing the error(s).  Then use \"Restart and run all\" again to see if there are any new errors.  Repeat this until no new error messages show up.   "
      ]
    },
    {
      "cell_type": "markdown",
      "metadata": {
        "id": "CG2Gju8CGxZU"
      },
      "source": [
        "**You are not ready to submit until you are able to select \"Restart and run all\" without any new error messages showing up.  Your code will not be able to be graded if there are any error messages.**"
      ]
    },
    {
      "cell_type": "markdown",
      "metadata": {
        "id": "KmCDBD_QoPLh"
      },
      "source": [
        "To submit your lab for grading you must first download it to your compute as .py file. In the \"File\" menu select \"Download .py\". The resulting file can then be uploaded to [gradescope.com](https://gradescope.com) for grading."
      ]
    }
  ]
}
