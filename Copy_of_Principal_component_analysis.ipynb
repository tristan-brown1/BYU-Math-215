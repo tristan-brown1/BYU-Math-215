{
  "nbformat": 4,
  "nbformat_minor": 0,
  "metadata": {
    "colab": {
      "provenance": [],
      "include_colab_link": true
    },
    "kernelspec": {
      "name": "python3",
      "display_name": "Python 3"
    }
  },
  "cells": [
    {
      "cell_type": "markdown",
      "metadata": {
        "id": "view-in-github",
        "colab_type": "text"
      },
      "source": [
        "<a href=\"https://colab.research.google.com/github/tristan-brown1/BYU-Math-215/blob/main/Copy_of_Principal_component_analysis.ipynb\" target=\"_parent\"><img src=\"https://colab.research.google.com/assets/colab-badge.svg\" alt=\"Open In Colab\"/></a>"
      ]
    },
    {
      "cell_type": "markdown",
      "metadata": {
        "id": "qEJhOZ51lG2W"
      },
      "source": [
        "#**Lab 11 - Data science and principal component analysis**"
      ]
    },
    {
      "cell_type": "markdown",
      "metadata": {
        "id": "y0oQ0MWSlwfG"
      },
      "source": [
        "Enter your code in the spaces provided. Do not change any of the variable names or function names that are already provided for you. In places where we specify the name of the return value, make sure that your code produces the a value with the correct name."
      ]
    },
    {
      "cell_type": "code",
      "metadata": {
        "id": "TpV7g0HFP1Pi"
      },
      "source": [
        "# Do not edit this cell.\n",
        "\n",
        "LabID=\"Lab11\"\n",
        "\n",
        "try:\n",
        "  from graderHelp import ISGRADEPLOT\n",
        "except ImportError:\n",
        "  ISGRADEPLOT = True"
      ],
      "execution_count": null,
      "outputs": []
    },
    {
      "cell_type": "markdown",
      "metadata": {
        "id": "CGHZ14CWl0sS"
      },
      "source": [
        "**Enter your name, section number, and BYU NetID**"
      ]
    },
    {
      "cell_type": "code",
      "metadata": {
        "id": "knzMO488lOPx"
      },
      "source": [
        "# Enter your first and last names in between the quotation marks.\n",
        "\n",
        "first_name=\"Tristan\"\n",
        "\n",
        "last_name=\"Brown\"\n",
        "\n",
        "# Enter your Math 215 section number in between the quotation marks.\n",
        "\n",
        "section_number=\"Your Math 215 section number goes here\"\n",
        "\n",
        "# Enter your BYU NetID in between the quotation marks.  NOT YOUR BYU ID NUMBER!\n",
        "\n",
        "BYUNetID=\"tbrown84\""
      ],
      "execution_count": null,
      "outputs": []
    },
    {
      "cell_type": "markdown",
      "metadata": {
        "id": "ADLuopPUdGk8"
      },
      "source": [
        "**Import the required packages**"
      ]
    },
    {
      "cell_type": "code",
      "metadata": {
        "id": "3-H-gsfndJZw"
      },
      "source": [
        "import numpy as np\n",
        "import matplotlib.pyplot as plt\n",
        "import pandas as pd"
      ],
      "execution_count": null,
      "outputs": []
    },
    {
      "cell_type": "markdown",
      "metadata": {
        "id": "vgeFcnsIQDyY"
      },
      "source": [
        "**Problem 1**"
      ]
    },
    {
      "cell_type": "code",
      "metadata": {
        "id": "JsbQD_hKbNRd"
      },
      "source": [
        "# This function returns the coordinate of x projected to the line spanned by u.\n",
        "\n",
        "def projection_coordinate(u,x):\n",
        "  return np.dot(u,x)"
      ],
      "execution_count": null,
      "outputs": []
    },
    {
      "cell_type": "markdown",
      "metadata": {
        "id": "WuZD6sz2exST"
      },
      "source": [
        "**Problem 2**"
      ]
    },
    {
      "cell_type": "code",
      "metadata": {
        "id": "6fWcunLfexfM"
      },
      "source": [
        "# This function returns the coordinates of the points in X projected to the plane spanned by u1 and u2.\n",
        "\n",
        "def projection_2D(u1,u2,X):\n",
        "  u = np.array([u1,u2])\n",
        "  return np.matmul(u,X)"
      ],
      "execution_count": null,
      "outputs": []
    },
    {
      "cell_type": "markdown",
      "metadata": {
        "id": "pqcL6zyuZn0E"
      },
      "source": [
        "**Downloading dataset**"
      ]
    },
    {
      "cell_type": "markdown",
      "metadata": {
        "id": "rtSwRZ_5z32G"
      },
      "source": [
        "The simplest way to load the data file into Colab is to first download it as  .csv file to your local computer by clicking the link\n",
        "\n",
        "https://drive.google.com/uc?export=download&id=1zwNTk7r46RWzuZJO7THf_n5FyCkew7Ns\n",
        "\n",
        "This will allow you to download the data as a .csv file.  In the top left corner of this screen you should see a little file folder icon. Selecting it opens a new window to the left of the notebook with three tabs: \"Upload\", \"Refresh\", and \"Mount Drive\". Select \"Upload\".  This should bring up a window that allows you to select the file \"Lab11data.csv\" from your local machine, which will upload the file to your notebook.  You will need to do this again if you decide to close your notebook and reopen it at a later time."
      ]
    },
    {
      "cell_type": "markdown",
      "metadata": {
        "id": "3a5OMZSl0cPB"
      },
      "source": [
        "**Converting the dataset into arrays**"
      ]
    },
    {
      "cell_type": "markdown",
      "metadata": {
        "id": "t3w7nJVO13mz"
      },
      "source": [
        "The following cell imports the data and creates three NumPy arrays.  The array X_total contains a column for each surveyed individual, with one row for each of their (numerical) survey answers.  The array X_neg contains the survey information of only the individuals who tested negative for cancer, while the array X_pos contains the survey information of only the individuals who tested positive for cancer.  This cell also creates two vectors which represent survey data for two unknown patients, Alice and Bob."
      ]
    },
    {
      "cell_type": "code",
      "metadata": {
        "id": "rfNIRgrY0i01"
      },
      "source": [
        "df = pd.read_csv('Lab11data.csv',header=None)\n",
        "X_neg=df.loc[df[100]==0].drop(columns=100).values.transpose()\n",
        "X_pos=df.loc[df[100]==1].drop(columns=100).values.transpose()\n",
        "X_total=df.loc[df[100]>=0].drop(columns=100).values.transpose()\n",
        "Alice=df.loc[df[100]<0].drop(columns=100).values[0,:]\n",
        "Bob=df.loc[df[100]<0].drop(columns=100).values[1,:]"
      ],
      "execution_count": null,
      "outputs": []
    },
    {
      "cell_type": "markdown",
      "metadata": {
        "id": "EFNMU14pbS5O"
      },
      "source": [
        " **Problem 3**"
      ]
    },
    {
      "cell_type": "code",
      "metadata": {
        "id": "fUYo4iQUQWEf"
      },
      "source": [
        "# Save the value of the covariance matrix you obtain in Problem 3 as the variable W.\n",
        "\n",
        "W=(1/(len(X_total[0]) - 1))*(np.matmul(X_total,np.transpose(X_total)))"
      ],
      "execution_count": null,
      "outputs": []
    },
    {
      "cell_type": "markdown",
      "metadata": {
        "id": "Jae53k-cuMRm"
      },
      "source": [
        "**Problem 4**"
      ]
    },
    {
      "cell_type": "code",
      "metadata": {
        "id": "ElPmu4r7uMaq"
      },
      "source": [
        "# Save the eigenvalues and eigenvectors you produced for Problem 4 here.\n",
        "\n",
        "L, P = np.linalg.eig(W)\n",
        "\n",
        "L1= L[0]\n",
        "L2= L[1]\n",
        "L3= L[2]\n",
        "\n",
        "u1= P[:,0]\n",
        "u2= P[:,1]\n",
        "u3= P[:,2]"
      ],
      "execution_count": null,
      "outputs": []
    },
    {
      "cell_type": "markdown",
      "metadata": {
        "id": "x7TJWzgzy6bP"
      },
      "source": [
        "**Problem 5**"
      ]
    },
    {
      "cell_type": "code",
      "metadata": {
        "id": "D7LeD6Fhy6l8"
      },
      "source": [
        "# Save the variance values you produced for Problem 5 here.\n",
        "\n",
        "total_variance=np.sum(L)\n",
        "\n",
        "reduced_variance=L1+L2\n",
        "\n",
        "relative_variance=reduced_variance/total_variance"
      ],
      "execution_count": null,
      "outputs": []
    },
    {
      "cell_type": "markdown",
      "metadata": {
        "id": "M1sYdFBJ9vyp"
      },
      "source": [
        "**Problem 6**"
      ]
    },
    {
      "cell_type": "code",
      "metadata": {
        "id": "-U9xxF409vPV"
      },
      "source": [
        "# Save the projected data points from Problem 6 here.\n",
        "\n",
        "X_neg_2D=projection_2D(u1,u2,X_neg)\n",
        "\n",
        "X_pos_2D=projection_2D(u1,u2,X_pos)\n",
        "\n",
        "Alice_2D=projection_2D(u1,u2,Alice)\n",
        "\n",
        "Bob_2D=projection_2D(u1,u2,Bob)"
      ],
      "execution_count": null,
      "outputs": []
    },
    {
      "cell_type": "markdown",
      "metadata": {
        "id": "n_xE6qVU43PS"
      },
      "source": [
        "**Problem 7**"
      ]
    },
    {
      "cell_type": "markdown",
      "metadata": {
        "id": "8q2p0rrdFWYA"
      },
      "source": [
        "This function can be used to plot the various 2-dimensional data points we've found.  It can accept up to four different arrays (any combination of X_neg_2D, X_pos_2D, Alice_2D, Bob_2D), and will plot the data together on a single plot.\n",
        "\n",
        "> Add blockquote\n",
        "\n"
      ]
    },
    {
      "cell_type": "code",
      "metadata": {
        "id": "kA8bvBcT43bc"
      },
      "source": [
        "# Use this function to plot the various 2-dimensional data points we've found.  You can plot all of the data at once, or one array at a time.\n",
        "\n",
        "def plot_data(Z1=[],Z2=[],Z3=[],Z4=[]):\n",
        "  fig = plt.figure()\n",
        "  ax1 = fig.add_subplot(111)\n",
        "  colors = plt.cm.rainbow(np.linspace(0, 1, 10))\n",
        "  if len(Z1)>0:\n",
        "    Y1=np.reshape(Z1,(2,-1))\n",
        "    ax1.scatter(Y1[0,:], Y1[1,:], s=2, c='b', marker=\"o\")\n",
        "  if len(Z2)>0:\n",
        "    Y2=np.reshape(Z2,(2,-1))\n",
        "    ax1.scatter(Y2[0,:], Y2[1,:], s=2, c='r', marker=\"o\")\n",
        "  if len(Z3)>0:\n",
        "    Y3=np.reshape(Z3,(2,-1))\n",
        "    ax1.scatter(Y3[0,:], Y3[1,:], s=100, c='g', marker=\"o\")\n",
        "  if len(Z4)>0:\n",
        "    Y4=np.reshape(Z4,(2,-1))\n",
        "    ax1.scatter(Y4[0,:], Y4[1,:], s=100, c=[colors[7]], marker=\"o\")\n",
        "  plt.show()\n",
        "  return None"
      ],
      "execution_count": null,
      "outputs": []
    },
    {
      "cell_type": "code",
      "metadata": {
        "id": "1l9lR2mwFqPs"
      },
      "source": [
        "# Save the values of your predictions below.  +1 indicates the individual is predicted to develop this type of cancer (testing positive), while -1 indicates they are predicted not to (testing negative).\n",
        "\n",
        "Alice_prediction=1\n",
        "\n",
        "Bob_prediction=-1"
      ],
      "execution_count": null,
      "outputs": []
    },
    {
      "cell_type": "markdown",
      "metadata": {
        "id": "V1PhGUHCQHtV"
      },
      "source": [
        "**STOP!  BEFORE YOU SUBMIT THIS LAB:**  Go to the \"Runtime\" menu at the top of this page, and select \"Restart and run all\".  If any of the cells produce error messages, you will either need to fix the error(s) or delete the code that is causing the error(s).  Then use \"Restart and run all\" again to see if there are any new errors.  Repeat this until no new error messages show up.  "
      ]
    },
    {
      "cell_type": "markdown",
      "metadata": {
        "id": "DK7QUGzLQLEe"
      },
      "source": [
        "**You are not ready to submit until you are able to select \"Restart and run all\" without any new error messages showing up.  Your code will not be able to be graded if there are any error messages.**"
      ]
    },
    {
      "cell_type": "markdown",
      "metadata": {
        "id": "NLFIm7EbXBBZ"
      },
      "source": [
        "To submit your lab for grading you must first download it to your compute as .py file. In the \"File\" menu select \"Download .py\". The resulting file can then be uploaded to [gradescope.com](https://gradescope.com) for grading."
      ]
    }
  ]
}