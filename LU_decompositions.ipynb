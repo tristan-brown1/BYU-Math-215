{
  "nbformat": 4,
  "nbformat_minor": 0,
  "metadata": {
    "colab": {
      "provenance": [],
      "include_colab_link": true
    },
    "kernelspec": {
      "name": "python3",
      "display_name": "Python 3"
    }
  },
  "cells": [
    {
      "cell_type": "markdown",
      "metadata": {
        "id": "view-in-github",
        "colab_type": "text"
      },
      "source": [
        "<a href=\"https://colab.research.google.com/github/tristan-brown1/BYU-Math-215/blob/main/Copy_of_LU_decompositions.ipynb\" target=\"_parent\"><img src=\"https://colab.research.google.com/assets/colab-badge.svg\" alt=\"Open In Colab\"/></a>"
      ]
    },
    {
      "cell_type": "markdown",
      "metadata": {
        "id": "qEJhOZ51lG2W"
      },
      "source": [
        "#**Lab 5 - LU decompositions and Gaussian elimination**"
      ]
    },
    {
      "cell_type": "markdown",
      "metadata": {
        "id": "y0oQ0MWSlwfG"
      },
      "source": [
        "Enter your code in the spaces provided. Do not change any of the variable names or function names that are already provided for you. In places where we specify the name of the return value, make sure that your code produces the a value with the correct name."
      ]
    },
    {
      "cell_type": "code",
      "metadata": {
        "id": "UyLKhewcUu6m"
      },
      "source": [
        "# Do not edit this cell.\n",
        "\n",
        "LabID=\"Lab5\"\n",
        "\n",
        "try:\n",
        "  from graderHelp import ISGRADEPLOT\n",
        "except ImportError:\n",
        "  ISGRADEPLOT = True"
      ],
      "execution_count": null,
      "outputs": []
    },
    {
      "cell_type": "markdown",
      "metadata": {
        "id": "CGHZ14CWl0sS"
      },
      "source": [
        "**Enter your name, section number, and BYU NetID**"
      ]
    },
    {
      "cell_type": "code",
      "metadata": {
        "id": "knzMO488lOPx"
      },
      "source": [
        "# Enter your first and last names in between the quotation marks.\n",
        "\n",
        "first_name=\"Tristan\"\n",
        "\n",
        "last_name=\"Brown\"\n",
        "\n",
        "# Enter your Math 215 section number in between the quotation marks.\n",
        "\n",
        "section_number=\"Your Math 215 section number goes here\"\n",
        "\n",
        "# Enter your BYU NetID in between the quotation marks.  NOT YOUR BYU ID NUMBER!\n",
        "\n",
        "BYUNetID=\"tbrown84\""
      ],
      "execution_count": null,
      "outputs": []
    },
    {
      "cell_type": "markdown",
      "metadata": {
        "id": "sXLH1s6F6et4"
      },
      "source": [
        "**Import NumPy**"
      ]
    },
    {
      "cell_type": "code",
      "metadata": {
        "id": "EjD80ENR6g6A"
      },
      "source": [
        "import numpy as np"
      ],
      "execution_count": null,
      "outputs": []
    },
    {
      "cell_type": "markdown",
      "metadata": {
        "id": "8TbgwXGZmETs"
      },
      "source": [
        "**Problem 1**"
      ]
    },
    {
      "cell_type": "code",
      "metadata": {
        "id": "dzudpi4_l8-8"
      },
      "source": [
        "def augment(A,b):\n",
        "\n",
        "  Ab=np.column_stack((A,b))\n",
        "\n",
        "  return Ab"
      ],
      "execution_count": null,
      "outputs": []
    },
    {
      "cell_type": "markdown",
      "metadata": {
        "id": "5KJ4X0qgmW52"
      },
      "source": [
        "**Problem 2**"
      ]
    },
    {
      "cell_type": "code",
      "metadata": {
        "id": "cUMtfns0mWCc"
      },
      "source": [
        "def first_column_zeros(A):\n",
        "  B=np.copy(A)\n",
        "\n",
        "  for i in range(1,B.shape[0]):\n",
        "    B[i,:]=B[i,:]-B[i,0]/B[0,0]*B[0,:]\n",
        "\n",
        "  return B"
      ],
      "execution_count": null,
      "outputs": []
    },
    {
      "cell_type": "markdown",
      "metadata": {
        "id": "3gFdGK5_m_iw"
      },
      "source": [
        "**Problem 3**"
      ]
    },
    {
      "cell_type": "code",
      "metadata": {
        "id": "dEt45tv6m6l2"
      },
      "source": [
        "def row_echelon(A,b):\n",
        "    B=np.copy(A)\n",
        "    Bb=np.column_stack((B,b))\n",
        "\n",
        "    for j in range(0,B.shape[1]):\n",
        "      for i in range(j+1, B.shape[0]):\n",
        "        Bb[i,:]=Bb[i,:]-Bb[i,j]/Bb[j,j]*Bb[j,:]\n",
        "\n",
        "    return Bb"
      ],
      "execution_count": null,
      "outputs": []
    },
    {
      "cell_type": "markdown",
      "metadata": {
        "id": "GD3rR1rmngih"
      },
      "source": [
        "**Problem 4**"
      ]
    },
    {
      "cell_type": "code",
      "metadata": {
        "id": "Wun2LuScnf86"
      },
      "source": [
        "def LU_decomposition(A):\n",
        "  m = A.shape[0]\n",
        "  n = A.shape[1]\n",
        "  U=np.copy(A)\n",
        "  L=np.identity(len(A))\n",
        "\n",
        "  for j in range(0,n):\n",
        "    for i in range(j+1,m):\n",
        "      L[i,j] = (U[i,j] / U[j,j])\n",
        "      U[i,:] = U[i,:] - ((L[i,j]) * (U[j,:]))\n",
        "\n",
        "  return L,U # We've included the return values for you, though your function needs to define them correctly."
      ],
      "execution_count": null,
      "outputs": []
    },
    {
      "cell_type": "markdown",
      "metadata": {
        "id": "LhCNjC6CoLgr"
      },
      "source": [
        "**Problem 5**"
      ]
    },
    {
      "cell_type": "code",
      "metadata": {
        "id": "z8cXXktXfGKi"
      },
      "source": [
        "def forward_substitution(L,b): # Accepts a lower triangular square matrix L and a vector b, solves Ly=b for y.\n",
        "\n",
        "  n = len(b)\n",
        "  y = [0]*n\n",
        "  for i in range(0,n):\n",
        "    y[i] = (b[i] - (np.dot(y,L[i,:])))/L[i,i]\n",
        "\n",
        "  return y"
      ],
      "execution_count": null,
      "outputs": []
    },
    {
      "cell_type": "markdown",
      "metadata": {
        "id": "iJL0cSqZiQjH"
      },
      "source": [
        "**Problem 6**"
      ]
    },
    {
      "cell_type": "code",
      "metadata": {
        "id": "6LJ5JLzfiQai"
      },
      "source": [
        "def back_substitution(U,y):    # Accepts an upper triangular square matrix U and a vector b, solves Ux=b for x.\n",
        "\n",
        "  m = len(y)\n",
        "  x = [0]*m\n",
        "  for i in range(m-1, -1, -1):\n",
        "    x[i] = (y[i] - (np.dot(x,U[i,:])))/U[i,i]\n",
        "\n",
        "  return x"
      ],
      "execution_count": null,
      "outputs": []
    },
    {
      "cell_type": "markdown",
      "metadata": {
        "id": "2Tx7g_driMNS"
      },
      "source": [
        "**Problem 7**"
      ]
    },
    {
      "cell_type": "code",
      "metadata": {
        "id": "zbGvfgyFoB48"
      },
      "source": [
        "def LU_solver(A,b):\n",
        "  L = LU_decomposition(A)[0]\n",
        "  y = forward_substitution(L,b)\n",
        "  U = LU_decomposition(A)[1]\n",
        "  x = back_substitution(U,y)\n",
        "  return x"
      ],
      "execution_count": null,
      "outputs": []
    },
    {
      "cell_type": "markdown",
      "metadata": {
        "id": "CeTKOgpv7DWs"
      },
      "source": [
        "**STOP!  BEFORE YOU SUBMIT THIS LAB:**  Go to the \"Runtime\" menu at the top of this page, and select \"Restart and run all\".  If any of the cells produce error messages, you will either need to fix the error(s) or delete the code that is causing the error(s).  Then use \"Restart and run all\" again to see if there are any new errors.  Repeat this until no new error messages show up.   "
      ]
    },
    {
      "cell_type": "markdown",
      "metadata": {
        "id": "80COE0bF7JGu"
      },
      "source": [
        "**You are not ready to submit until you are able to select \"Restart and run all\" without any new error messages showing up.  Your code will not be able to be graded if there are any error messages.**"
      ]
    },
    {
      "cell_type": "markdown",
      "metadata": {
        "id": "aYrvCGC0msYu"
      },
      "source": [
        "To submit your lab for grading you must first download it to your compute as .py file. In the \"File\" menu select \"Download .py\". The resulting file can then be uploaded to [gradescope.com](https://gradescope.com) for grading."
      ]
    }
  ]
}
